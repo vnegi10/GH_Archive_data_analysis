{
 "cells": [
  {
   "cell_type": "code",
   "execution_count": 2,
   "id": "c0e85a7d-ecaa-45be-9b48-75eb736a57d2",
   "metadata": {},
   "outputs": [
    {
     "name": "stdout",
     "output_type": "stream",
     "text": [
      "1.2.1\n"
     ]
    }
   ],
   "source": [
    "import duckdb\n",
    "print(duckdb.__version__)"
   ]
  },
  {
   "cell_type": "markdown",
   "id": "1ee70afc-041c-4954-b108-f3ee2a0e4874",
   "metadata": {},
   "source": [
    "## Ingest data"
   ]
  },
  {
   "cell_type": "code",
   "execution_count": 3,
   "id": "0a8cfc1c-4dfb-4c7f-af62-b3b755e6af06",
   "metadata": {},
   "outputs": [],
   "source": [
    "archive_folder = '/home/vikas/Desktop/HuggingFace/github-repo-enumeration/*.csv'"
   ]
  },
  {
   "cell_type": "code",
   "execution_count": 4,
   "id": "cbcea131-fb88-4e8e-9d5f-c014a5fb3922",
   "metadata": {},
   "outputs": [],
   "source": [
    "new_schema = {\n",
    "                'repo_name': 'VARCHAR',\n",
    "                'unique_contributors': 'INT',\n",
    "                'commit_comment_event_count': 'INT',\n",
    "                'create_event_count': 'INT',\n",
    "                'delete_event_count': 'INT',\n",
    "                'fork_event_count': 'INT',\n",
    "                'gollum_event_count': 'INT',\n",
    "                'issue_comment_event_count': 'INT',\n",
    "                'issues_event_count': 'INT',\n",
    "                'member_event_count': 'INT',\n",
    "                'public_event_count': 'INT',\n",
    "                'pull_request_event_count': 'INT',\n",
    "                'pull_request_review_event_count': 'INT',\n",
    "                'pull_request_review_comment_event_count': 'INT',\n",
    "                'pull_request_review_thread_event_count': 'INT',\n",
    "                'push_event_count': 'INT',\n",
    "                'release_event_count': 'INT',\n",
    "                'sponsorship_event_count': 'INT',\n",
    "                'watch_event_count': 'INT'\n",
    "            }"
   ]
  },
  {
   "cell_type": "code",
   "execution_count": 5,
   "id": "d6959f9c-815f-42c2-afae-22194c6cfe35",
   "metadata": {},
   "outputs": [],
   "source": [
    "def ingest_csv(*cols):\n",
    "\n",
    "    # Convert column names to a comma-separated string\n",
    "    col_str = \", \".join(cols) if cols else \"*\"\n",
    "\n",
    "    csv_input = duckdb.sql(f\"\"\"\n",
    "                           SELECT {col_str} \n",
    "                           FROM read_csv('{archive_folder}', \n",
    "                                          header = True, \n",
    "                                          delim = ',', \n",
    "                                          columns = {new_schema}\n",
    "                                         )\n",
    "                           \"\"\")\n",
    "\n",
    "    return csv_input"
   ]
  },
  {
   "cell_type": "markdown",
   "id": "307b92a8-967a-4cbc-bd3e-caccd58c2b6b",
   "metadata": {},
   "source": [
    "## Run query"
   ]
  },
  {
   "cell_type": "markdown",
   "id": "c4ef4141-3cad-44ab-96c9-8051e057b900",
   "metadata": {},
   "source": [
    "### Count"
   ]
  },
  {
   "cell_type": "code",
   "execution_count": 6,
   "id": "671fe31d-2253-465d-b297-504d784a7b38",
   "metadata": {},
   "outputs": [],
   "source": [
    "def get_num_rows():\n",
    "\n",
    "    one_col = ingest_csv(\"unique_contributors\")\n",
    "\n",
    "    num_rows = duckdb.sql(\"\"\"\n",
    "                          SELECT COUNT(*) FROM one_col\n",
    "                          \"\"\")\n",
    "\n",
    "    print(num_rows)\n",
    "\n",
    "    return None    "
   ]
  },
  {
   "cell_type": "code",
   "execution_count": 7,
   "id": "fea7793e-7a06-4d87-8124-07167e6037c6",
   "metadata": {},
   "outputs": [
    {
     "data": {
      "application/vnd.jupyter.widget-view+json": {
       "model_id": "0ed4a5a8d01c49d481dc1ccd3dcce625",
       "version_major": 2,
       "version_minor": 0
      },
      "text/plain": [
       "FloatProgress(value=0.0, layout=Layout(width='auto'), style=ProgressStyle(bar_color='black'))"
      ]
     },
     "metadata": {},
     "output_type": "display_data"
    },
    {
     "name": "stdout",
     "output_type": "stream",
     "text": [
      "┌──────────────┐\n",
      "│ count_star() │\n",
      "│    int64     │\n",
      "├──────────────┤\n",
      "│    375897395 │\n",
      "└──────────────┘\n",
      "\n",
      "CPU times: user 2min 38s, sys: 12.1 s, total: 2min 50s\n",
      "Wall time: 12.4 s\n"
     ]
    }
   ],
   "source": [
    "%%time\n",
    "\n",
    "get_num_rows()"
   ]
  },
  {
   "cell_type": "markdown",
   "id": "83c35d15-c95d-477a-9d19-f3292b646c0f",
   "metadata": {},
   "source": [
    "### Filter"
   ]
  },
  {
   "cell_type": "code",
   "execution_count": 8,
   "id": "a9712c6f-3354-4f54-ac29-57328d154ba2",
   "metadata": {},
   "outputs": [],
   "source": [
    "def filter_user(user_name):\n",
    "\n",
    "    all_cols = ingest_csv()\n",
    "\n",
    "    found_user = duckdb.sql(f\"\"\"\n",
    "                            SELECT * FROM all_cols\n",
    "                            WHERE repo_name LIKE '%{user_name}%'\n",
    "                            \"\"\")\n",
    "\n",
    "    return found_user    "
   ]
  },
  {
   "cell_type": "code",
   "execution_count": 9,
   "id": "6b92a099-cc10-4667-8dfe-94851238bfc3",
   "metadata": {},
   "outputs": [],
   "source": [
    "# %%time\n",
    "\n",
    "# print(filter_user(\"vnegi10\"))"
   ]
  },
  {
   "cell_type": "markdown",
   "id": "93d7a485-ab79-4680-9aa3-b329d7a96752",
   "metadata": {},
   "source": [
    "### Number of repos per user"
   ]
  },
  {
   "cell_type": "code",
   "execution_count": 12,
   "id": "572de388-4afa-41d7-811a-7c97310d027c",
   "metadata": {},
   "outputs": [],
   "source": [
    "def get_repo_count_per_user():\n",
    "\n",
    "    all_cols = ingest_csv(\"repo_name\")\n",
    "\n",
    "    group_user = duckdb.sql(\"\"\"\n",
    "                            WITH repo_data AS (\n",
    "                            SELECT DISTINCT repo_name\n",
    "                            FROM all_cols\n",
    "                            ),\n",
    "                            split_repo AS (\n",
    "                                SELECT \n",
    "                                    repo_name, \n",
    "                                    SPLIT_PART(repo_name, '/', 1) AS username,\n",
    "                                    SPLIT_PART(repo_name, '/', 2) AS repository\n",
    "                                FROM repo_data\n",
    "                            )\n",
    "                            SELECT \n",
    "                                username,\n",
    "                                COUNT(repository) AS count_repository\n",
    "                            FROM split_repo\n",
    "                            GROUP BY username\n",
    "                            ORDER BY count_repository DESC\n",
    "                            LIMIT 50;\n",
    "                            \"\"\")\n",
    "\n",
    "    return group_user   "
   ]
  },
  {
   "cell_type": "code",
   "execution_count": 1,
   "id": "7da6d459-09fc-4e60-9378-282a149a1d98",
   "metadata": {},
   "outputs": [],
   "source": [
    "# def get_repo_count_per_user_opt():\n",
    "    \n",
    "#     all_cols = duckdb.sql(f\"\"\"\n",
    "#         SELECT DISTINCT repo_name\n",
    "#         FROM read_csv_auto('{archive_folder}', header = True)\n",
    "#     \"\"\")\n",
    "\n",
    "#     group_user = duckdb.sql(\"\"\"\n",
    "#         SELECT \n",
    "#             SPLIT_PART(repo_name, '/', 1) AS username,\n",
    "#             COUNT(SPLIT_PART(repo_name, '/', 2)) AS count_repository\n",
    "#         FROM all_cols\n",
    "#         GROUP BY username\n",
    "#         ORDER BY count_repository DESC\n",
    "#         LIMIT 50;\n",
    "#     \"\"\")\n",
    "\n",
    "#     return group_user"
   ]
  },
  {
   "cell_type": "code",
   "execution_count": 2,
   "id": "21850974-653f-41e7-903f-518d8bc07ea4",
   "metadata": {},
   "outputs": [],
   "source": [
    "#print(get_repo_count_per_user())"
   ]
  },
  {
   "cell_type": "code",
   "execution_count": null,
   "id": "3797111e-06d0-4a13-a955-591eb006a1ae",
   "metadata": {},
   "outputs": [],
   "source": []
  }
 ],
 "metadata": {
  "kernelspec": {
   "display_name": "Python 3 (ipykernel)",
   "language": "python",
   "name": "python3"
  },
  "language_info": {
   "codemirror_mode": {
    "name": "ipython",
    "version": 3
   },
   "file_extension": ".py",
   "mimetype": "text/x-python",
   "name": "python",
   "nbconvert_exporter": "python",
   "pygments_lexer": "ipython3",
   "version": "3.10.12"
  }
 },
 "nbformat": 4,
 "nbformat_minor": 5
}
