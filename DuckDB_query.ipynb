{
 "cells": [
  {
   "cell_type": "code",
   "execution_count": 2,
   "id": "c0e85a7d-ecaa-45be-9b48-75eb736a57d2",
   "metadata": {},
   "outputs": [
    {
     "name": "stdout",
     "output_type": "stream",
     "text": [
      "1.2.1\n"
     ]
    }
   ],
   "source": [
    "import duckdb\n",
    "print(duckdb.__version__)"
   ]
  },
  {
   "cell_type": "markdown",
   "id": "1ee70afc-041c-4954-b108-f3ee2a0e4874",
   "metadata": {},
   "source": [
    "## Ingest data"
   ]
  },
  {
   "cell_type": "code",
   "execution_count": 22,
   "id": "0a8cfc1c-4dfb-4c7f-af62-b3b755e6af06",
   "metadata": {},
   "outputs": [],
   "source": [
    "archive_folder = '/home/vikas/Desktop/HuggingFace/github-repo-enumeration/*.csv'"
   ]
  },
  {
   "cell_type": "code",
   "execution_count": 12,
   "id": "cbcea131-fb88-4e8e-9d5f-c014a5fb3922",
   "metadata": {},
   "outputs": [],
   "source": [
    "new_schema = {\n",
    "                'repo_name': 'VARCHAR',\n",
    "                'unique_contributors': 'INT',\n",
    "                'commit_comment_event_count': 'INT',\n",
    "                'create_event_count': 'INT',\n",
    "                'delete_event_count': 'INT',\n",
    "                'fork_event_count': 'INT',\n",
    "                'gollum_event_count': 'INT',\n",
    "                'issue_comment_event_count': 'INT',\n",
    "                'issues_event_count': 'INT',\n",
    "                'member_event_count': 'INT',\n",
    "                'public_event_count': 'INT',\n",
    "                'pull_request_event_count': 'INT',\n",
    "                'pull_request_review_event_count': 'INT',\n",
    "                'pull_request_review_comment_event_count': 'INT',\n",
    "                'pull_request_review_thread_event_count': 'INT',\n",
    "                'push_event_count': 'INT',\n",
    "                'release_event_count': 'INT',\n",
    "                'sponsorship_event_count': 'INT',\n",
    "                'watch_event_count': 'INT'\n",
    "            }"
   ]
  },
  {
   "cell_type": "code",
   "execution_count": 29,
   "id": "d6959f9c-815f-42c2-afae-22194c6cfe35",
   "metadata": {},
   "outputs": [],
   "source": [
    "def ingest_csv(cols):\n",
    "\n",
    "    csv_input = duckdb.sql(f\"\"\"\n",
    "                           SELECT {cols} \n",
    "                           FROM read_csv('{archive_folder}', \n",
    "                                          header = True, \n",
    "                                          delim = ',', \n",
    "                                          columns = {new_schema}\n",
    "                                         )\n",
    "                           \"\"\")\n",
    "\n",
    "    return csv_input"
   ]
  },
  {
   "cell_type": "markdown",
   "id": "307b92a8-967a-4cbc-bd3e-caccd58c2b6b",
   "metadata": {},
   "source": [
    "## Run query"
   ]
  },
  {
   "cell_type": "markdown",
   "id": "c4ef4141-3cad-44ab-96c9-8051e057b900",
   "metadata": {},
   "source": [
    "### Count"
   ]
  },
  {
   "cell_type": "code",
   "execution_count": 30,
   "id": "671fe31d-2253-465d-b297-504d784a7b38",
   "metadata": {},
   "outputs": [],
   "source": [
    "def get_num_rows():\n",
    "\n",
    "    one_col = ingest_csv(\"unique_contributors\")\n",
    "\n",
    "    num_rows = duckdb.sql(\"\"\"\n",
    "                          SELECT COUNT(*) FROM one_col\n",
    "                          \"\"\")\n",
    "\n",
    "    print(num_rows)\n",
    "\n",
    "    return None    "
   ]
  },
  {
   "cell_type": "code",
   "execution_count": 33,
   "id": "fea7793e-7a06-4d87-8124-07167e6037c6",
   "metadata": {},
   "outputs": [
    {
     "data": {
      "application/vnd.jupyter.widget-view+json": {
       "model_id": "81040ef2f73b405a85c0caf417786704",
       "version_major": 2,
       "version_minor": 0
      },
      "text/plain": [
       "FloatProgress(value=0.0, layout=Layout(width='auto'), style=ProgressStyle(bar_color='black'))"
      ]
     },
     "metadata": {},
     "output_type": "display_data"
    },
    {
     "name": "stdout",
     "output_type": "stream",
     "text": [
      "┌──────────────┐\n",
      "│ count_star() │\n",
      "│    int64     │\n",
      "├──────────────┤\n",
      "│    375897395 │\n",
      "└──────────────┘\n",
      "\n",
      "CPU times: user 3min 2s, sys: 12.5 s, total: 3min 14s\n",
      "Wall time: 13.7 s\n"
     ]
    }
   ],
   "source": [
    "%%time\n",
    "\n",
    "get_num_rows()"
   ]
  },
  {
   "cell_type": "code",
   "execution_count": null,
   "id": "008f7913-401e-4e45-8b4d-0744592110e6",
   "metadata": {},
   "outputs": [],
   "source": []
  }
 ],
 "metadata": {
  "kernelspec": {
   "display_name": "Python 3 (ipykernel)",
   "language": "python",
   "name": "python3"
  },
  "language_info": {
   "codemirror_mode": {
    "name": "ipython",
    "version": 3
   },
   "file_extension": ".py",
   "mimetype": "text/x-python",
   "name": "python",
   "nbconvert_exporter": "python",
   "pygments_lexer": "ipython3",
   "version": "3.10.12"
  }
 },
 "nbformat": 4,
 "nbformat_minor": 5
}
